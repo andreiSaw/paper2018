{
 "cells": [
  {
   "cell_type": "code",
   "execution_count": 1,
   "metadata": {
    "scrolled": true
   },
   "outputs": [],
   "source": [
    "from sklearn.ensemble import RandomForestClassifier\n",
    "\n",
    "import numpy as np\n",
    "import pandas as pd\n",
    "import matplotlib.pyplot as plt\n",
    "\n",
    "import json\n",
    "import os\n",
    "#warnings.filterwarnings(\"ignore\", category=DeprecationWarning) \n",
    "#%matplotlib inline"
   ]
  },
  {
   "cell_type": "markdown",
   "metadata": {},
   "source": [
    "# if need to show all data in columns"
   ]
  },
  {
   "cell_type": "code",
   "execution_count": 2,
   "metadata": {},
   "outputs": [],
   "source": [
    "pd.set_option('display.max_colwidth', -1)"
   ]
  },
  {
   "cell_type": "markdown",
   "metadata": {},
   "source": [
    "# generate data"
   ]
  },
  {
   "cell_type": "code",
   "execution_count": null,
   "metadata": {
    "scrolled": true
   },
   "outputs": [],
   "source": [
    "#cores\n",
    "N=16\n",
    "#secs\n",
    "M=1024\n",
    "x={}\n",
    "\n",
    "for i in range(1,N+1):\n",
    "    x[i]=[]\n",
    "    for j in range(1,M+1):\n",
    "        x[i].append(j/i)\n",
    "df = pd.DataFrame(data=x,index=range(1,M+1))\n",
    "df"
   ]
  },
  {
   "cell_type": "code",
   "execution_count": null,
   "metadata": {
    "scrolled": true
   },
   "outputs": [],
   "source": [
    "df.to_csv(\"output.csv\")"
   ]
  },
  {
   "cell_type": "markdown",
   "metadata": {},
   "source": [
    "# Read"
   ]
  },
  {
   "cell_type": "code",
   "execution_count": null,
   "metadata": {},
   "outputs": [],
   "source": [
    "data = pd.read_csv('output.csv',index_col=['Unnamed: 0'])\n",
    "data.sample(10)"
   ]
  },
  {
   "cell_type": "code",
   "execution_count": null,
   "metadata": {
    "scrolled": true
   },
   "outputs": [],
   "source": [
    "data.head()"
   ]
  },
  {
   "cell_type": "code",
   "execution_count": null,
   "metadata": {},
   "outputs": [],
   "source": [
    "data_train=pd.DataFrame(columns=['program','cores','paramsvector','time'])"
   ]
  },
  {
   "cell_type": "code",
   "execution_count": null,
   "metadata": {},
   "outputs": [],
   "source": [
    "k=0\n",
    "dlist=[]\n",
    "for i in range(0,len(data)):\n",
    "    for j in range(1,len(data.columns)+1):\n",
    "        dict={}\n",
    "        dict['time']=data.iloc[i][str(j)]\n",
    "        dict['cores']=j\n",
    "        dict['paramsvector']=[i+1]\n",
    "        cmd=\"sh -lc \\'python3 run.py {} {} > /output/test.txt\\'\".format(dict['paramsvector'][0],dict['cores'])\n",
    "        dict['program']={'image': 'als23/sleep:latest', 'cmd': cmd}\n",
    "        data_train.loc[k]=dict\n",
    "        dlist.append(dict)\n",
    "        k+=1"
   ]
  },
  {
   "cell_type": "code",
   "execution_count": null,
   "metadata": {},
   "outputs": [],
   "source": [
    "data_train.sample(10)"
   ]
  },
  {
   "cell_type": "code",
   "execution_count": null,
   "metadata": {},
   "outputs": [],
   "source": [
    "with open(\"outputSleepSim.json\", \"w\") as f:\n",
    "    json.dump(dlist, f)"
   ]
  },
  {
   "cell_type": "markdown",
   "metadata": {},
   "source": [
    "# Monte-Carlo"
   ]
  },
  {
   "cell_type": "code",
   "execution_count": 30,
   "metadata": {},
   "outputs": [],
   "source": [
    "path = \"../data/outputMC.json\"\n",
    "\n",
    "def load_data():\n",
    "    if not os.path.isfile(path):\n",
    "        return []\n",
    "    with open(path, \"r\") as json_data:\n",
    "        statelist = json.load(json_data)\n",
    "        if isinstance(statelist, list):\n",
    "            return statelist\n",
    "        return []"
   ]
  },
  {
   "cell_type": "code",
   "execution_count": 31,
   "metadata": {},
   "outputs": [
    {
     "data": {
      "text/html": [
       "<div>\n",
       "<style scoped>\n",
       "    .dataframe tbody tr th:only-of-type {\n",
       "        vertical-align: middle;\n",
       "    }\n",
       "\n",
       "    .dataframe tbody tr th {\n",
       "        vertical-align: top;\n",
       "    }\n",
       "\n",
       "    .dataframe thead th {\n",
       "        text-align: right;\n",
       "    }\n",
       "</style>\n",
       "<table border=\"1\" class=\"dataframe\">\n",
       "  <thead>\n",
       "    <tr style=\"text-align: right;\">\n",
       "      <th></th>\n",
       "      <th>cores</th>\n",
       "      <th>paramsvector</th>\n",
       "      <th>program</th>\n",
       "      <th>time</th>\n",
       "    </tr>\n",
       "  </thead>\n",
       "  <tbody>\n",
       "    <tr>\n",
       "      <th>1</th>\n",
       "      <td>5</td>\n",
       "      <td>[7207200]</td>\n",
       "      <td>{'image': 'als23/montecarlo:latest', 'cmd': 'sh -lc 'python3 run.py 7207200 5 &gt; /output/test.txt''}</td>\n",
       "      <td>1.428898</td>\n",
       "    </tr>\n",
       "    <tr>\n",
       "      <th>2</th>\n",
       "      <td>10</td>\n",
       "      <td>[7207200]</td>\n",
       "      <td>{'image': 'als23/montecarlo:latest', 'cmd': 'sh -lc 'python3 run.py 7207200 10 &gt; /output/test.txt''}</td>\n",
       "      <td>1.132659</td>\n",
       "    </tr>\n",
       "    <tr>\n",
       "      <th>3</th>\n",
       "      <td>2</td>\n",
       "      <td>[7207200]</td>\n",
       "      <td>{'image': 'als23/montecarlo:latest', 'cmd': 'sh -lc 'python3 run.py 7207200 2 &gt; /output/test.txt''}</td>\n",
       "      <td>3.219215</td>\n",
       "    </tr>\n",
       "    <tr>\n",
       "      <th>4</th>\n",
       "      <td>3</td>\n",
       "      <td>[7207200]</td>\n",
       "      <td>{'image': 'als23/montecarlo:latest', 'cmd': 'sh -lc 'python3 run.py 7207200 3 &gt; /output/test.txt''}</td>\n",
       "      <td>2.211859</td>\n",
       "    </tr>\n",
       "    <tr>\n",
       "      <th>5</th>\n",
       "      <td>9</td>\n",
       "      <td>[7207200]</td>\n",
       "      <td>{'image': 'als23/montecarlo:latest', 'cmd': 'sh -lc 'python3 run.py 7207200 9 &gt; /output/test.txt''}</td>\n",
       "      <td>0.967428</td>\n",
       "    </tr>\n",
       "  </tbody>\n",
       "</table>\n",
       "</div>"
      ],
      "text/plain": [
       "   cores paramsvector  \\\n",
       "1  5      [7207200]     \n",
       "2  10     [7207200]     \n",
       "3  2      [7207200]     \n",
       "4  3      [7207200]     \n",
       "5  9      [7207200]     \n",
       "\n",
       "                                                                                                program  \\\n",
       "1  {'image': 'als23/montecarlo:latest', 'cmd': 'sh -lc 'python3 run.py 7207200 5 > /output/test.txt''}    \n",
       "2  {'image': 'als23/montecarlo:latest', 'cmd': 'sh -lc 'python3 run.py 7207200 10 > /output/test.txt''}   \n",
       "3  {'image': 'als23/montecarlo:latest', 'cmd': 'sh -lc 'python3 run.py 7207200 2 > /output/test.txt''}    \n",
       "4  {'image': 'als23/montecarlo:latest', 'cmd': 'sh -lc 'python3 run.py 7207200 3 > /output/test.txt''}    \n",
       "5  {'image': 'als23/montecarlo:latest', 'cmd': 'sh -lc 'python3 run.py 7207200 9 > /output/test.txt''}    \n",
       "\n",
       "       time  \n",
       "1  1.428898  \n",
       "2  1.132659  \n",
       "3  3.219215  \n",
       "4  2.211859  \n",
       "5  0.967428  "
      ]
     },
     "execution_count": 31,
     "metadata": {},
     "output_type": "execute_result"
    }
   ],
   "source": [
    "d=load_data()\n",
    "df=pd.DataFrame.from_records(d,index=range(1,len(d)+1))\n",
    "\n",
    "# statelist=[]\n",
    "# with open(\"f.json\", \"r\") as json_data:\n",
    "#     statelist = json.load(json_data)\n",
    "    \n",
    "df=pd.DataFrame.from_records(d,index=range(1,len(d)+1))\n",
    "df.head()"
   ]
  },
  {
   "cell_type": "code",
   "execution_count": 32,
   "metadata": {},
   "outputs": [
    {
     "data": {
      "text/html": [
       "<div>\n",
       "<style scoped>\n",
       "    .dataframe tbody tr th:only-of-type {\n",
       "        vertical-align: middle;\n",
       "    }\n",
       "\n",
       "    .dataframe tbody tr th {\n",
       "        vertical-align: top;\n",
       "    }\n",
       "\n",
       "    .dataframe thead th {\n",
       "        text-align: right;\n",
       "    }\n",
       "</style>\n",
       "<table border=\"1\" class=\"dataframe\">\n",
       "  <thead>\n",
       "    <tr style=\"text-align: right;\">\n",
       "      <th></th>\n",
       "      <th>cores</th>\n",
       "      <th>time</th>\n",
       "    </tr>\n",
       "  </thead>\n",
       "  <tbody>\n",
       "    <tr>\n",
       "      <th>count</th>\n",
       "      <td>16.000000</td>\n",
       "      <td>16.000000</td>\n",
       "    </tr>\n",
       "    <tr>\n",
       "      <th>mean</th>\n",
       "      <td>8.500000</td>\n",
       "      <td>1.638507</td>\n",
       "    </tr>\n",
       "    <tr>\n",
       "      <th>std</th>\n",
       "      <td>4.760952</td>\n",
       "      <td>1.396787</td>\n",
       "    </tr>\n",
       "    <tr>\n",
       "      <th>min</th>\n",
       "      <td>1.000000</td>\n",
       "      <td>0.787860</td>\n",
       "    </tr>\n",
       "    <tr>\n",
       "      <th>25%</th>\n",
       "      <td>4.750000</td>\n",
       "      <td>0.872576</td>\n",
       "    </tr>\n",
       "    <tr>\n",
       "      <th>50%</th>\n",
       "      <td>8.500000</td>\n",
       "      <td>1.174381</td>\n",
       "    </tr>\n",
       "    <tr>\n",
       "      <th>75%</th>\n",
       "      <td>12.250000</td>\n",
       "      <td>1.525557</td>\n",
       "    </tr>\n",
       "    <tr>\n",
       "      <th>max</th>\n",
       "      <td>16.000000</td>\n",
       "      <td>6.310714</td>\n",
       "    </tr>\n",
       "  </tbody>\n",
       "</table>\n",
       "</div>"
      ],
      "text/plain": [
       "           cores       time\n",
       "count  16.000000  16.000000\n",
       "mean   8.500000   1.638507 \n",
       "std    4.760952   1.396787 \n",
       "min    1.000000   0.787860 \n",
       "25%    4.750000   0.872576 \n",
       "50%    8.500000   1.174381 \n",
       "75%    12.250000  1.525557 \n",
       "max    16.000000  6.310714 "
      ]
     },
     "execution_count": 32,
     "metadata": {},
     "output_type": "execute_result"
    }
   ],
   "source": [
    "df.describe()"
   ]
  },
  {
   "cell_type": "markdown",
   "metadata": {},
   "source": [
    "# Sort"
   ]
  },
  {
   "cell_type": "code",
   "execution_count": 33,
   "metadata": {},
   "outputs": [
    {
     "data": {
      "text/html": [
       "<div>\n",
       "<style scoped>\n",
       "    .dataframe tbody tr th:only-of-type {\n",
       "        vertical-align: middle;\n",
       "    }\n",
       "\n",
       "    .dataframe tbody tr th {\n",
       "        vertical-align: top;\n",
       "    }\n",
       "\n",
       "    .dataframe thead th {\n",
       "        text-align: right;\n",
       "    }\n",
       "</style>\n",
       "<table border=\"1\" class=\"dataframe\">\n",
       "  <thead>\n",
       "    <tr style=\"text-align: right;\">\n",
       "      <th></th>\n",
       "      <th>cores</th>\n",
       "      <th>paramsvector</th>\n",
       "      <th>program</th>\n",
       "      <th>time</th>\n",
       "    </tr>\n",
       "  </thead>\n",
       "  <tbody>\n",
       "    <tr>\n",
       "      <th>8</th>\n",
       "      <td>1</td>\n",
       "      <td>[7207200]</td>\n",
       "      <td>{'image': 'als23/montecarlo:latest', 'cmd': 'sh -lc 'python3 run.py 7207200 1 &gt; /output/test.txt''}</td>\n",
       "      <td>6.310714</td>\n",
       "    </tr>\n",
       "    <tr>\n",
       "      <th>3</th>\n",
       "      <td>2</td>\n",
       "      <td>[7207200]</td>\n",
       "      <td>{'image': 'als23/montecarlo:latest', 'cmd': 'sh -lc 'python3 run.py 7207200 2 &gt; /output/test.txt''}</td>\n",
       "      <td>3.219215</td>\n",
       "    </tr>\n",
       "    <tr>\n",
       "      <th>4</th>\n",
       "      <td>3</td>\n",
       "      <td>[7207200]</td>\n",
       "      <td>{'image': 'als23/montecarlo:latest', 'cmd': 'sh -lc 'python3 run.py 7207200 3 &gt; /output/test.txt''}</td>\n",
       "      <td>2.211859</td>\n",
       "    </tr>\n",
       "    <tr>\n",
       "      <th>6</th>\n",
       "      <td>4</td>\n",
       "      <td>[7207200]</td>\n",
       "      <td>{'image': 'als23/montecarlo:latest', 'cmd': 'sh -lc 'python3 run.py 7207200 4 &gt; /output/test.txt''}</td>\n",
       "      <td>1.682031</td>\n",
       "    </tr>\n",
       "    <tr>\n",
       "      <th>1</th>\n",
       "      <td>5</td>\n",
       "      <td>[7207200]</td>\n",
       "      <td>{'image': 'als23/montecarlo:latest', 'cmd': 'sh -lc 'python3 run.py 7207200 5 &gt; /output/test.txt''}</td>\n",
       "      <td>1.428898</td>\n",
       "    </tr>\n",
       "  </tbody>\n",
       "</table>\n",
       "</div>"
      ],
      "text/plain": [
       "   cores paramsvector  \\\n",
       "8  1      [7207200]     \n",
       "3  2      [7207200]     \n",
       "4  3      [7207200]     \n",
       "6  4      [7207200]     \n",
       "1  5      [7207200]     \n",
       "\n",
       "                                                                                               program  \\\n",
       "8  {'image': 'als23/montecarlo:latest', 'cmd': 'sh -lc 'python3 run.py 7207200 1 > /output/test.txt''}   \n",
       "3  {'image': 'als23/montecarlo:latest', 'cmd': 'sh -lc 'python3 run.py 7207200 2 > /output/test.txt''}   \n",
       "4  {'image': 'als23/montecarlo:latest', 'cmd': 'sh -lc 'python3 run.py 7207200 3 > /output/test.txt''}   \n",
       "6  {'image': 'als23/montecarlo:latest', 'cmd': 'sh -lc 'python3 run.py 7207200 4 > /output/test.txt''}   \n",
       "1  {'image': 'als23/montecarlo:latest', 'cmd': 'sh -lc 'python3 run.py 7207200 5 > /output/test.txt''}   \n",
       "\n",
       "       time  \n",
       "8  6.310714  \n",
       "3  3.219215  \n",
       "4  2.211859  \n",
       "6  1.682031  \n",
       "1  1.428898  "
      ]
     },
     "execution_count": 33,
     "metadata": {},
     "output_type": "execute_result"
    }
   ],
   "source": [
    "df=df.sort_values(by=[\"cores\"])\n",
    "\n",
    "df.head()"
   ]
  },
  {
   "cell_type": "code",
   "execution_count": 34,
   "metadata": {},
   "outputs": [
    {
     "data": {
      "text/html": [
       "<div>\n",
       "<style scoped>\n",
       "    .dataframe tbody tr th:only-of-type {\n",
       "        vertical-align: middle;\n",
       "    }\n",
       "\n",
       "    .dataframe tbody tr th {\n",
       "        vertical-align: top;\n",
       "    }\n",
       "\n",
       "    .dataframe thead th {\n",
       "        text-align: right;\n",
       "    }\n",
       "</style>\n",
       "<table border=\"1\" class=\"dataframe\">\n",
       "  <thead>\n",
       "    <tr style=\"text-align: right;\">\n",
       "      <th></th>\n",
       "      <th>cores</th>\n",
       "      <th>paramsvector</th>\n",
       "      <th>program</th>\n",
       "      <th>time</th>\n",
       "    </tr>\n",
       "  </thead>\n",
       "  <tbody>\n",
       "    <tr>\n",
       "      <th>1</th>\n",
       "      <td>1</td>\n",
       "      <td>[7207200]</td>\n",
       "      <td>{'image': 'als23/montecarlo:latest', 'cmd': 'sh -lc 'python3 run.py 7207200 1 &gt; /output/test.txt''}</td>\n",
       "      <td>6.310714</td>\n",
       "    </tr>\n",
       "    <tr>\n",
       "      <th>2</th>\n",
       "      <td>2</td>\n",
       "      <td>[7207200]</td>\n",
       "      <td>{'image': 'als23/montecarlo:latest', 'cmd': 'sh -lc 'python3 run.py 7207200 2 &gt; /output/test.txt''}</td>\n",
       "      <td>3.219215</td>\n",
       "    </tr>\n",
       "    <tr>\n",
       "      <th>3</th>\n",
       "      <td>3</td>\n",
       "      <td>[7207200]</td>\n",
       "      <td>{'image': 'als23/montecarlo:latest', 'cmd': 'sh -lc 'python3 run.py 7207200 3 &gt; /output/test.txt''}</td>\n",
       "      <td>2.211859</td>\n",
       "    </tr>\n",
       "    <tr>\n",
       "      <th>4</th>\n",
       "      <td>4</td>\n",
       "      <td>[7207200]</td>\n",
       "      <td>{'image': 'als23/montecarlo:latest', 'cmd': 'sh -lc 'python3 run.py 7207200 4 &gt; /output/test.txt''}</td>\n",
       "      <td>1.682031</td>\n",
       "    </tr>\n",
       "    <tr>\n",
       "      <th>5</th>\n",
       "      <td>5</td>\n",
       "      <td>[7207200]</td>\n",
       "      <td>{'image': 'als23/montecarlo:latest', 'cmd': 'sh -lc 'python3 run.py 7207200 5 &gt; /output/test.txt''}</td>\n",
       "      <td>1.428898</td>\n",
       "    </tr>\n",
       "  </tbody>\n",
       "</table>\n",
       "</div>"
      ],
      "text/plain": [
       "   cores paramsvector  \\\n",
       "1  1      [7207200]     \n",
       "2  2      [7207200]     \n",
       "3  3      [7207200]     \n",
       "4  4      [7207200]     \n",
       "5  5      [7207200]     \n",
       "\n",
       "                                                                                               program  \\\n",
       "1  {'image': 'als23/montecarlo:latest', 'cmd': 'sh -lc 'python3 run.py 7207200 1 > /output/test.txt''}   \n",
       "2  {'image': 'als23/montecarlo:latest', 'cmd': 'sh -lc 'python3 run.py 7207200 2 > /output/test.txt''}   \n",
       "3  {'image': 'als23/montecarlo:latest', 'cmd': 'sh -lc 'python3 run.py 7207200 3 > /output/test.txt''}   \n",
       "4  {'image': 'als23/montecarlo:latest', 'cmd': 'sh -lc 'python3 run.py 7207200 4 > /output/test.txt''}   \n",
       "5  {'image': 'als23/montecarlo:latest', 'cmd': 'sh -lc 'python3 run.py 7207200 5 > /output/test.txt''}   \n",
       "\n",
       "       time  \n",
       "1  6.310714  \n",
       "2  3.219215  \n",
       "3  2.211859  \n",
       "4  1.682031  \n",
       "5  1.428898  "
      ]
     },
     "execution_count": 34,
     "metadata": {},
     "output_type": "execute_result"
    }
   ],
   "source": [
    "df = df.reset_index(drop=True)\n",
    "pd.set_option('display.max_colwidth', -1)\n",
    "df.index=range(1,len(d)+1)\n",
    "\n",
    "df.head()"
   ]
  },
  {
   "cell_type": "markdown",
   "metadata": {
    "scrolled": false
   },
   "source": [
    "#plot1=df.time.plot.line(figsize=(50,30))\n",
    "#fig1 = plot1.get_figure()\n",
    "#fig1.savefig('linefig1.png', dpi=100)"
   ]
  },
  {
   "cell_type": "markdown",
   "metadata": {},
   "source": [
    "# select data from dataset"
   ]
  },
  {
   "cell_type": "code",
   "execution_count": null,
   "metadata": {},
   "outputs": [],
   "source": [
    "# expand df.tags into its own dataframe\n",
    "tags = df['paramsvector'].apply(pd.Series)\n",
    "\n",
    "# rename each variable is tags\n",
    "tags = tags.rename(columns = lambda x : 'param_' + str(x))\n",
    "\n",
    "# view the tags dataframe\n",
    "tags.head()"
   ]
  },
  {
   "cell_type": "code",
   "execution_count": null,
   "metadata": {
    "scrolled": true
   },
   "outputs": [],
   "source": [
    "# join the tags dataframe back to the original dataframe\n",
    "dfexpanded=pd.concat([df[:], tags[:]], axis=1)\n",
    "dfexpanded.head()"
   ]
  },
  {
   "cell_type": "code",
   "execution_count": null,
   "metadata": {},
   "outputs": [],
   "source": [
    "cond=dfexpanded['param_0']==60\n",
    "vyborka=dfexpanded[cond]\n",
    "vyborka.reset_index(drop=True)\n",
    "vyborka.index=vyborka.cores"
   ]
  },
  {
   "cell_type": "markdown",
   "metadata": {},
   "source": [
    "# Plot"
   ]
  },
  {
   "cell_type": "code",
   "execution_count": 35,
   "metadata": {},
   "outputs": [
    {
     "data": {
      "image/png": "[encoded data removed]",
      "text/plain": [
       "<Figure size 432x288 with 1 Axes>"
      ]
     },
     "metadata": {},
     "output_type": "display_data"
    }
   ],
   "source": [
    "plot2=df.time.plot.bar()\n",
    "fig2 = plot2.get_figure()\n",
    "plt.xlabel('Cores Number')\n",
    "plt.ylabel('Time')\n",
    "fig2.savefig('barfig4.png', dpi=100)"
   ]
  },
  {
   "cell_type": "code",
   "execution_count": null,
   "metadata": {},
   "outputs": [],
   "source": [
    "plt.plot(vyborka.cores, vyborka.time, 'o')"
   ]
  },
  {
   "cell_type": "code",
   "execution_count": null,
   "metadata": {},
   "outputs": [],
   "source": []
  },
  {
   "cell_type": "markdown",
   "metadata": {},
   "source": [
    "plt.plot(vyborka.cores * vyborka.time)"
   ]
  },
  {
   "cell_type": "markdown",
   "metadata": {},
   "source": [
    "# Training"
   ]
  },
  {
   "cell_type": "code",
   "execution_count": null,
   "metadata": {},
   "outputs": [],
   "source": [
    "from sklearn.ensemble import RandomForestClassifier as rfc\n",
    "from sklearn.ensemble import RandomForestRegressor as rfr\n",
    "import json\n",
    "\n",
    "clf=rfr()"
   ]
  },
  {
   "cell_type": "code",
   "execution_count": null,
   "metadata": {},
   "outputs": [],
   "source": [
    "X = df.drop(['time'],axis=1)\n",
    "y = df.time\n",
    "X.head()"
   ]
  },
  {
   "cell_type": "code",
   "execution_count": null,
   "metadata": {},
   "outputs": [],
   "source": [
    "X.program=X.program.apply(lambda x: json.dumps(x))\n",
    "X.paramsvector=X.paramsvector.apply(lambda x: x[0])\n",
    "\n",
    "data_train = X\n",
    "data_train.head()"
   ]
  },
  {
   "cell_type": "code",
   "execution_count": null,
   "metadata": {},
   "outputs": [],
   "source": [
    "from sklearn import preprocessing"
   ]
  },
  {
   "cell_type": "code",
   "execution_count": null,
   "metadata": {},
   "outputs": [],
   "source": [
    "features = ['program']\n",
    "le= preprocessing.LabelEncoder()"
   ]
  },
  {
   "cell_type": "code",
   "execution_count": null,
   "metadata": {},
   "outputs": [],
   "source": [
    "df_combined = X[features]\n",
    "    \n",
    "for feature in features:\n",
    "    le = le.fit(df_combined[feature])\n",
    "    data_train[feature] = le.transform(df_combined[feature])\n",
    "    \n",
    "data_train.head()"
   ]
  },
  {
   "cell_type": "code",
   "execution_count": null,
   "metadata": {},
   "outputs": [],
   "source": [
    "clf.fit(data_train,y)"
   ]
  },
  {
   "cell_type": "code",
   "execution_count": null,
   "metadata": {},
   "outputs": [],
   "source": [
    "to_predict=[{\"cores\": 4, \"program\": {\"image\": \"als23/sleep:latest\", \"cmd\": \"sh -lc 'python3 run.py 60 4 > /output/test.txt'\"},\n",
    "                         \"paramsvector\": [60]}]"
   ]
  },
  {
   "cell_type": "code",
   "execution_count": null,
   "metadata": {},
   "outputs": [],
   "source": [
    "data_test = pd.DataFrame.from_records(to_predict)\n",
    "data_test.program=data_test.program.apply(lambda x: json.dumps(x))\n",
    "data_test.paramsvector=data_test.paramsvector.apply(lambda x: x[0])\n",
    "data_test.head()"
   ]
  },
  {
   "cell_type": "code",
   "execution_count": null,
   "metadata": {},
   "outputs": [],
   "source": [
    "df_combined = data_test[features]\n",
    "\n",
    "for feature in features:\n",
    "    #le = le.fit(df_combined[feature])\n",
    "    data_test[feature] = le.transform(df_combined[feature])\n",
    "\n",
    "data_test.head()"
   ]
  },
  {
   "cell_type": "code",
   "execution_count": null,
   "metadata": {},
   "outputs": [],
   "source": [
    "clf.predict(data_test)"
   ]
  },
  {
   "cell_type": "code",
   "execution_count": null,
   "metadata": {},
   "outputs": [],
   "source": []
  },
  {
   "cell_type": "code",
   "execution_count": null,
   "metadata": {},
   "outputs": [],
   "source": []
  },
  {
   "cell_type": "code",
   "execution_count": null,
   "metadata": {},
   "outputs": [],
   "source": []
  },
  {
   "cell_type": "code",
   "execution_count": null,
   "metadata": {},
   "outputs": [],
   "source": []
  },
  {
   "cell_type": "code",
   "execution_count": null,
   "metadata": {},
   "outputs": [],
   "source": []
  },
  {
   "cell_type": "code",
   "execution_count": null,
   "metadata": {},
   "outputs": [],
   "source": []
  },
  {
   "cell_type": "code",
   "execution_count": null,
   "metadata": {},
   "outputs": [],
   "source": []
  },
  {
   "cell_type": "code",
   "execution_count": null,
   "metadata": {},
   "outputs": [],
   "source": []
  },
  {
   "cell_type": "code",
   "execution_count": null,
   "metadata": {},
   "outputs": [],
   "source": []
  },
  {
   "cell_type": "code",
   "execution_count": null,
   "metadata": {},
   "outputs": [],
   "source": []
  }
 ],
 "metadata": {
  "kernelspec": {
   "display_name": "Python 3",
   "language": "python",
   "name": "python3"
  },
  "language_info": {
   "codemirror_mode": {
    "name": "ipython",
    "version": 3
   },
   "file_extension": ".py",
   "mimetype": "text/x-python",
   "name": "python",
   "nbconvert_exporter": "python",
   "pygments_lexer": "ipython3",
   "version": "3.6.5"
  }
 },
 "nbformat": 4,
 "nbformat_minor": 2
}
