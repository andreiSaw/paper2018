{
 "cells": [
  {
   "cell_type": "code",
   "execution_count": 1,
   "metadata": {
    "scrolled": true
   },
   "outputs": [],
   "source": [
    "from sklearn.ensemble import RandomForestClassifier\n",
    "\n",
    "import numpy as np\n",
    "import pandas as pd\n",
    "import matplotlib.pyplot as plt\n",
    "\n",
    "import json\n",
    "import os\n",
    "#warnings.filterwarnings(\"ignore\", category=DeprecationWarning) \n",
    "#%matplotlib inline"
   ]
  },
  {
   "cell_type": "markdown",
   "metadata": {},
   "source": [
    "generate data"
   ]
  },
  {
   "cell_type": "code",
   "execution_count": null,
   "metadata": {
    "scrolled": true
   },
   "outputs": [],
   "source": [
    "#cores\n",
    "N=16\n",
    "#secs\n",
    "M=1024\n",
    "x={}\n",
    "\n",
    "for i in range(1,N+1):\n",
    "    x[i]=[]\n",
    "    for j in range(1,M+1):\n",
    "        x[i].append(j/i)\n",
    "df = pd.DataFrame(data=x,index=range(1,M+1))\n",
    "df"
   ]
  },
  {
   "cell_type": "code",
   "execution_count": null,
   "metadata": {
    "scrolled": true
   },
   "outputs": [],
   "source": [
    "df.to_csv(\"output.csv\")"
   ]
  },
  {
   "cell_type": "markdown",
   "metadata": {},
   "source": [
    "Read"
   ]
  },
  {
   "cell_type": "code",
   "execution_count": null,
   "metadata": {},
   "outputs": [],
   "source": [
    "data = pd.read_csv('output.csv',index_col=['Unnamed: 0'])\n",
    "data.sample(10)"
   ]
  },
  {
   "cell_type": "code",
   "execution_count": null,
   "metadata": {
    "scrolled": true
   },
   "outputs": [],
   "source": [
    "data.head()"
   ]
  },
  {
   "cell_type": "code",
   "execution_count": null,
   "metadata": {},
   "outputs": [],
   "source": [
    "data_train=pd.DataFrame(columns=['program','cores','paramsvector','time'])"
   ]
  },
  {
   "cell_type": "code",
   "execution_count": null,
   "metadata": {},
   "outputs": [],
   "source": [
    "k=0\n",
    "dlist=[]\n",
    "for i in range(0,len(data)):\n",
    "    for j in range(1,len(data.columns)+1):\n",
    "        dict={}\n",
    "        dict['time']=data.iloc[i][str(j)]\n",
    "        dict['cores']=j\n",
    "        dict['paramsvector']=[i+1]\n",
    "        cmd=\"sh -lc \\'python3 run.py {} {} > /output/test.txt\\'\".format(dict['paramsvector'][0],dict['cores'])\n",
    "        dict['program']={'image': 'als23/sleep:latest', 'cmd': cmd}\n",
    "        data_train.loc[k]=dict\n",
    "        dlist.append(dict)\n",
    "        k+=1"
   ]
  },
  {
   "cell_type": "code",
   "execution_count": null,
   "metadata": {},
   "outputs": [],
   "source": [
    "data_train.sample(10)"
   ]
  },
  {
   "cell_type": "code",
   "execution_count": null,
   "metadata": {},
   "outputs": [],
   "source": [
    "with open(\"outputSleepSim.json\", \"w\") as f:\n",
    "    json.dump(dlist, f)"
   ]
  },
  {
   "cell_type": "markdown",
   "metadata": {},
   "source": [
    "Monte-Carlo"
   ]
  },
  {
   "cell_type": "code",
   "execution_count": 13,
   "metadata": {},
   "outputs": [],
   "source": [
    "path = \"../outputSleep.json\"\n",
    "\n",
    "def load_data():\n",
    "    if not os.path.isfile(path):\n",
    "        return []\n",
    "    with open(path, \"r\") as json_data:\n",
    "        statelist = json.load(json_data)\n",
    "        if isinstance(statelist, list):\n",
    "            return statelist\n",
    "        return []"
   ]
  },
  {
   "cell_type": "code",
   "execution_count": 14,
   "metadata": {},
   "outputs": [],
   "source": [
    "pd.set_option('display.max_colwidth', -1)"
   ]
  },
  {
   "cell_type": "code",
   "execution_count": 15,
   "metadata": {},
   "outputs": [
    {
     "data": {
      "text/html": [
       "<div>\n",
       "<style scoped>\n",
       "    .dataframe tbody tr th:only-of-type {\n",
       "        vertical-align: middle;\n",
       "    }\n",
       "\n",
       "    .dataframe tbody tr th {\n",
       "        vertical-align: top;\n",
       "    }\n",
       "\n",
       "    .dataframe thead th {\n",
       "        text-align: right;\n",
       "    }\n",
       "</style>\n",
       "<table border=\"1\" class=\"dataframe\">\n",
       "  <thead>\n",
       "    <tr style=\"text-align: right;\">\n",
       "      <th></th>\n",
       "      <th>cores</th>\n",
       "      <th>paramsvector</th>\n",
       "      <th>program</th>\n",
       "      <th>time</th>\n",
       "    </tr>\n",
       "  </thead>\n",
       "  <tbody>\n",
       "    <tr>\n",
       "      <th>1</th>\n",
       "      <td>14</td>\n",
       "      <td>[60]</td>\n",
       "      <td>{'image': 'als23/sleep:latest', 'cmd': 'sh -lc 'python3 run.py 60 14 &gt; /output/test.txt''}</td>\n",
       "      <td>4.292906</td>\n",
       "    </tr>\n",
       "    <tr>\n",
       "      <th>2</th>\n",
       "      <td>15</td>\n",
       "      <td>[60]</td>\n",
       "      <td>{'image': 'als23/sleep:latest', 'cmd': 'sh -lc 'python3 run.py 60 15 &gt; /output/test.txt''}</td>\n",
       "      <td>4.006929</td>\n",
       "    </tr>\n",
       "    <tr>\n",
       "      <th>3</th>\n",
       "      <td>5</td>\n",
       "      <td>[60]</td>\n",
       "      <td>{'image': 'als23/sleep:latest', 'cmd': 'sh -lc 'python3 run.py 60 5 &gt; /output/test.txt''}</td>\n",
       "      <td>12.013590</td>\n",
       "    </tr>\n",
       "    <tr>\n",
       "      <th>4</th>\n",
       "      <td>12</td>\n",
       "      <td>[60]</td>\n",
       "      <td>{'image': 'als23/sleep:latest', 'cmd': 'sh -lc 'python3 run.py 60 12 &gt; /output/test.txt''}</td>\n",
       "      <td>5.007390</td>\n",
       "    </tr>\n",
       "    <tr>\n",
       "      <th>5</th>\n",
       "      <td>16</td>\n",
       "      <td>[60]</td>\n",
       "      <td>{'image': 'als23/sleep:latest', 'cmd': 'sh -lc 'python3 run.py 60 16 &gt; /output/test.txt''}</td>\n",
       "      <td>3.756186</td>\n",
       "    </tr>\n",
       "  </tbody>\n",
       "</table>\n",
       "</div>"
      ],
      "text/plain": [
       "   cores paramsvector  \\\n",
       "1  14     [60]          \n",
       "2  15     [60]          \n",
       "3  5      [60]          \n",
       "4  12     [60]          \n",
       "5  16     [60]          \n",
       "\n",
       "                                                                                      program  \\\n",
       "1  {'image': 'als23/sleep:latest', 'cmd': 'sh -lc 'python3 run.py 60 14 > /output/test.txt''}   \n",
       "2  {'image': 'als23/sleep:latest', 'cmd': 'sh -lc 'python3 run.py 60 15 > /output/test.txt''}   \n",
       "3  {'image': 'als23/sleep:latest', 'cmd': 'sh -lc 'python3 run.py 60 5 > /output/test.txt''}    \n",
       "4  {'image': 'als23/sleep:latest', 'cmd': 'sh -lc 'python3 run.py 60 12 > /output/test.txt''}   \n",
       "5  {'image': 'als23/sleep:latest', 'cmd': 'sh -lc 'python3 run.py 60 16 > /output/test.txt''}   \n",
       "\n",
       "        time  \n",
       "1  4.292906   \n",
       "2  4.006929   \n",
       "3  12.013590  \n",
       "4  5.007390   \n",
       "5  3.756186   "
      ]
     },
     "execution_count": 15,
     "metadata": {},
     "output_type": "execute_result"
    }
   ],
   "source": [
    "d=load_data()\n",
    "df=pd.DataFrame.from_records(d,index=range(1,len(d)+1))\n",
    "\n",
    "# statelist=[]\n",
    "# with open(\"f.json\", \"r\") as json_data:\n",
    "#     statelist = json.load(json_data)\n",
    "    \n",
    "df=pd.DataFrame.from_records(d,index=range(1,len(d)+1))\n",
    "df.head()"
   ]
  },
  {
   "cell_type": "markdown",
   "metadata": {},
   "source": [
    "df=df.sort_values(by=[\"cores\"])\n",
    "\n",
    "df.head()"
   ]
  },
  {
   "cell_type": "markdown",
   "metadata": {},
   "source": [
    "df = df.reset_index(drop=True)\n",
    "pd.set_option('display.max_colwidth', -1)\n",
    "df.index=range(1,len(d)+1)\n",
    "\n",
    "df.head()"
   ]
  },
  {
   "cell_type": "markdown",
   "metadata": {
    "scrolled": false
   },
   "source": [
    "#plot1=df.time.plot.line(figsize=(50,30))\n",
    "#fig1 = plot1.get_figure()\n",
    "#fig1.savefig('linefig1.png', dpi=100)"
   ]
  },
  {
   "cell_type": "code",
   "execution_count": 12,
   "metadata": {},
   "outputs": [
    {
     "data": {
      "image/png": "[encoded data removed]",
      "text/plain": [
       "<Figure size 432x288 with 1 Axes>"
      ]
     },
     "metadata": {},
     "output_type": "display_data"
    }
   ],
   "source": [
    "plot2=df.time.plot.bar()\n",
    "fig2 = plot2.get_figure()\n",
    "fig2.savefig('barfig3.png', dpi=100)"
   ]
  },
  {
   "cell_type": "markdown",
   "metadata": {},
   "source": [
    "Training"
   ]
  },
  {
   "cell_type": "markdown",
   "metadata": {},
   "source": [
    "def convert_features(data):\n",
    "    conv_data = data.copy()\n",
    "   \n",
    "    #преобразование номинальных признаков\n",
    "    nom_df = conv_data[['cores', 'paramsvector' ]]\n",
    "    conv_data = conv_data.drop(nom_df.columns, axis=1)\n",
    "    nom_df = pd.get_dummies(nom_df)\n",
    "    conv_data = pd.concat([conv_data, nom_df], axis = 1)\n",
    "    \n",
    "    return conv_data"
   ]
  },
  {
   "cell_type": "markdown",
   "metadata": {},
   "source": [
    "#conv_data= convert_features(df2)"
   ]
  },
  {
   "cell_type": "code",
   "execution_count": 5,
   "metadata": {},
   "outputs": [],
   "source": [
    "from sklearn.ensemble import RandomForestClassifier as rfc\n",
    "from sklearn.ensemble import RandomForestRegressor as rfr\n",
    "import json\n",
    "\n",
    "clf=rfr()"
   ]
  },
  {
   "cell_type": "code",
   "execution_count": 6,
   "metadata": {},
   "outputs": [
    {
     "data": {
      "text/html": [
       "<div>\n",
       "<style scoped>\n",
       "    .dataframe tbody tr th:only-of-type {\n",
       "        vertical-align: middle;\n",
       "    }\n",
       "\n",
       "    .dataframe tbody tr th {\n",
       "        vertical-align: top;\n",
       "    }\n",
       "\n",
       "    .dataframe thead th {\n",
       "        text-align: right;\n",
       "    }\n",
       "</style>\n",
       "<table border=\"1\" class=\"dataframe\">\n",
       "  <thead>\n",
       "    <tr style=\"text-align: right;\">\n",
       "      <th></th>\n",
       "      <th>cores</th>\n",
       "      <th>paramsvector</th>\n",
       "      <th>program</th>\n",
       "    </tr>\n",
       "  </thead>\n",
       "  <tbody>\n",
       "    <tr>\n",
       "      <th>1</th>\n",
       "      <td>1</td>\n",
       "      <td>[2520000]</td>\n",
       "      <td>{'image': 'als23/montecarlo:latest', 'cmd': 'sh -lc 'python3 run.py 2520000 1 &gt; /output/test.txt''}</td>\n",
       "    </tr>\n",
       "    <tr>\n",
       "      <th>2</th>\n",
       "      <td>2</td>\n",
       "      <td>[2520000]</td>\n",
       "      <td>{'image': 'als23/montecarlo:latest', 'cmd': 'sh -lc 'python3 run.py 2520000 2 &gt; /output/test.txt''}</td>\n",
       "    </tr>\n",
       "    <tr>\n",
       "      <th>3</th>\n",
       "      <td>4</td>\n",
       "      <td>[2520000]</td>\n",
       "      <td>{'image': 'als23/montecarlo:latest', 'cmd': 'sh -lc 'python3 run.py 2520000 4 &gt; /output/test.txt''}</td>\n",
       "    </tr>\n",
       "    <tr>\n",
       "      <th>4</th>\n",
       "      <td>3</td>\n",
       "      <td>[2520000]</td>\n",
       "      <td>{'image': 'als23/montecarlo:latest', 'cmd': 'sh -lc 'python3 run.py 2520000 3 &gt; /output/test.txt''}</td>\n",
       "    </tr>\n",
       "    <tr>\n",
       "      <th>5</th>\n",
       "      <td>7</td>\n",
       "      <td>[2520000]</td>\n",
       "      <td>{'image': 'als23/montecarlo:latest', 'cmd': 'sh -lc 'python3 run.py 2520000 7 &gt; /output/test.txt''}</td>\n",
       "    </tr>\n",
       "  </tbody>\n",
       "</table>\n",
       "</div>"
      ],
      "text/plain": [
       "   cores paramsvector  \\\n",
       "1  1      [2520000]     \n",
       "2  2      [2520000]     \n",
       "3  4      [2520000]     \n",
       "4  3      [2520000]     \n",
       "5  7      [2520000]     \n",
       "\n",
       "                                                                                               program  \n",
       "1  {'image': 'als23/montecarlo:latest', 'cmd': 'sh -lc 'python3 run.py 2520000 1 > /output/test.txt''}  \n",
       "2  {'image': 'als23/montecarlo:latest', 'cmd': 'sh -lc 'python3 run.py 2520000 2 > /output/test.txt''}  \n",
       "3  {'image': 'als23/montecarlo:latest', 'cmd': 'sh -lc 'python3 run.py 2520000 4 > /output/test.txt''}  \n",
       "4  {'image': 'als23/montecarlo:latest', 'cmd': 'sh -lc 'python3 run.py 2520000 3 > /output/test.txt''}  \n",
       "5  {'image': 'als23/montecarlo:latest', 'cmd': 'sh -lc 'python3 run.py 2520000 7 > /output/test.txt''}  "
      ]
     },
     "execution_count": 6,
     "metadata": {},
     "output_type": "execute_result"
    }
   ],
   "source": [
    "X = df.drop(['time'],axis=1)\n",
    "y = df.time\n",
    "X.head()"
   ]
  },
  {
   "cell_type": "code",
   "execution_count": 7,
   "metadata": {},
   "outputs": [
    {
     "data": {
      "text/html": [
       "<div>\n",
       "<style scoped>\n",
       "    .dataframe tbody tr th:only-of-type {\n",
       "        vertical-align: middle;\n",
       "    }\n",
       "\n",
       "    .dataframe tbody tr th {\n",
       "        vertical-align: top;\n",
       "    }\n",
       "\n",
       "    .dataframe thead th {\n",
       "        text-align: right;\n",
       "    }\n",
       "</style>\n",
       "<table border=\"1\" class=\"dataframe\">\n",
       "  <thead>\n",
       "    <tr style=\"text-align: right;\">\n",
       "      <th></th>\n",
       "      <th>cores</th>\n",
       "      <th>paramsvector</th>\n",
       "      <th>program</th>\n",
       "    </tr>\n",
       "  </thead>\n",
       "  <tbody>\n",
       "    <tr>\n",
       "      <th>1</th>\n",
       "      <td>1</td>\n",
       "      <td>2520000</td>\n",
       "      <td>{\"image\": \"als23/montecarlo:latest\", \"cmd\": \"sh -lc 'python3 run.py 2520000 1 &gt; /output/test.txt'\"}</td>\n",
       "    </tr>\n",
       "    <tr>\n",
       "      <th>2</th>\n",
       "      <td>2</td>\n",
       "      <td>2520000</td>\n",
       "      <td>{\"image\": \"als23/montecarlo:latest\", \"cmd\": \"sh -lc 'python3 run.py 2520000 2 &gt; /output/test.txt'\"}</td>\n",
       "    </tr>\n",
       "    <tr>\n",
       "      <th>3</th>\n",
       "      <td>4</td>\n",
       "      <td>2520000</td>\n",
       "      <td>{\"image\": \"als23/montecarlo:latest\", \"cmd\": \"sh -lc 'python3 run.py 2520000 4 &gt; /output/test.txt'\"}</td>\n",
       "    </tr>\n",
       "    <tr>\n",
       "      <th>4</th>\n",
       "      <td>3</td>\n",
       "      <td>2520000</td>\n",
       "      <td>{\"image\": \"als23/montecarlo:latest\", \"cmd\": \"sh -lc 'python3 run.py 2520000 3 &gt; /output/test.txt'\"}</td>\n",
       "    </tr>\n",
       "    <tr>\n",
       "      <th>5</th>\n",
       "      <td>7</td>\n",
       "      <td>2520000</td>\n",
       "      <td>{\"image\": \"als23/montecarlo:latest\", \"cmd\": \"sh -lc 'python3 run.py 2520000 7 &gt; /output/test.txt'\"}</td>\n",
       "    </tr>\n",
       "  </tbody>\n",
       "</table>\n",
       "</div>"
      ],
      "text/plain": [
       "   cores  paramsvector  \\\n",
       "1  1      2520000        \n",
       "2  2      2520000        \n",
       "3  4      2520000        \n",
       "4  3      2520000        \n",
       "5  7      2520000        \n",
       "\n",
       "                                                                                               program  \n",
       "1  {\"image\": \"als23/montecarlo:latest\", \"cmd\": \"sh -lc 'python3 run.py 2520000 1 > /output/test.txt'\"}  \n",
       "2  {\"image\": \"als23/montecarlo:latest\", \"cmd\": \"sh -lc 'python3 run.py 2520000 2 > /output/test.txt'\"}  \n",
       "3  {\"image\": \"als23/montecarlo:latest\", \"cmd\": \"sh -lc 'python3 run.py 2520000 4 > /output/test.txt'\"}  \n",
       "4  {\"image\": \"als23/montecarlo:latest\", \"cmd\": \"sh -lc 'python3 run.py 2520000 3 > /output/test.txt'\"}  \n",
       "5  {\"image\": \"als23/montecarlo:latest\", \"cmd\": \"sh -lc 'python3 run.py 2520000 7 > /output/test.txt'\"}  "
      ]
     },
     "execution_count": 7,
     "metadata": {},
     "output_type": "execute_result"
    }
   ],
   "source": [
    "X.program=X.program.apply(lambda x: json.dumps(x))\n",
    "X.paramsvector=X.paramsvector.apply(lambda x: x[0])\n",
    "\n",
    "# docs=[\"{\\\"image\\\": \",\"\\\"als23/sleep:latest\\\"\",\",\",\"\\\"cmd\\\": \", \"\\\"sh -lc \\'python3 run.py\",\"> /output/test.txt\\'\\\"\"]\n",
    "data_train = X\n",
    "data_train.head()"
   ]
  },
  {
   "cell_type": "code",
   "execution_count": 8,
   "metadata": {},
   "outputs": [],
   "source": [
    "from sklearn import preprocessing"
   ]
  },
  {
   "cell_type": "code",
   "execution_count": 9,
   "metadata": {},
   "outputs": [],
   "source": [
    "features = ['program']\n",
    "le= preprocessing.LabelEncoder()"
   ]
  },
  {
   "cell_type": "code",
   "execution_count": 10,
   "metadata": {},
   "outputs": [
    {
     "data": {
      "text/html": [
       "<div>\n",
       "<style scoped>\n",
       "    .dataframe tbody tr th:only-of-type {\n",
       "        vertical-align: middle;\n",
       "    }\n",
       "\n",
       "    .dataframe tbody tr th {\n",
       "        vertical-align: top;\n",
       "    }\n",
       "\n",
       "    .dataframe thead th {\n",
       "        text-align: right;\n",
       "    }\n",
       "</style>\n",
       "<table border=\"1\" class=\"dataframe\">\n",
       "  <thead>\n",
       "    <tr style=\"text-align: right;\">\n",
       "      <th></th>\n",
       "      <th>cores</th>\n",
       "      <th>paramsvector</th>\n",
       "      <th>program</th>\n",
       "    </tr>\n",
       "  </thead>\n",
       "  <tbody>\n",
       "    <tr>\n",
       "      <th>1</th>\n",
       "      <td>1</td>\n",
       "      <td>2520000</td>\n",
       "      <td>0</td>\n",
       "    </tr>\n",
       "    <tr>\n",
       "      <th>2</th>\n",
       "      <td>2</td>\n",
       "      <td>2520000</td>\n",
       "      <td>2</td>\n",
       "    </tr>\n",
       "    <tr>\n",
       "      <th>3</th>\n",
       "      <td>4</td>\n",
       "      <td>2520000</td>\n",
       "      <td>4</td>\n",
       "    </tr>\n",
       "    <tr>\n",
       "      <th>4</th>\n",
       "      <td>3</td>\n",
       "      <td>2520000</td>\n",
       "      <td>3</td>\n",
       "    </tr>\n",
       "    <tr>\n",
       "      <th>5</th>\n",
       "      <td>7</td>\n",
       "      <td>2520000</td>\n",
       "      <td>7</td>\n",
       "    </tr>\n",
       "  </tbody>\n",
       "</table>\n",
       "</div>"
      ],
      "text/plain": [
       "   cores  paramsvector  program\n",
       "1  1      2520000       0      \n",
       "2  2      2520000       2      \n",
       "3  4      2520000       4      \n",
       "4  3      2520000       3      \n",
       "5  7      2520000       7      "
      ]
     },
     "execution_count": 10,
     "metadata": {},
     "output_type": "execute_result"
    }
   ],
   "source": [
    "df_combined = X[features]\n",
    "    \n",
    "for feature in features:\n",
    "    le = le.fit(df_combined[feature])\n",
    "    data_train[feature] = le.transform(df_combined[feature])\n",
    "    \n",
    "data_train.head()"
   ]
  },
  {
   "cell_type": "code",
   "execution_count": 11,
   "metadata": {},
   "outputs": [
    {
     "data": {
      "text/plain": [
       "RandomForestRegressor(bootstrap=True, criterion='mse', max_depth=None,\n",
       "           max_features='auto', max_leaf_nodes=None,\n",
       "           min_impurity_decrease=0.0, min_impurity_split=None,\n",
       "           min_samples_leaf=1, min_samples_split=2,\n",
       "           min_weight_fraction_leaf=0.0, n_estimators=10, n_jobs=1,\n",
       "           oob_score=False, random_state=None, verbose=0, warm_start=False)"
      ]
     },
     "execution_count": 11,
     "metadata": {},
     "output_type": "execute_result"
    }
   ],
   "source": [
    "clf.fit(data_train,y)"
   ]
  },
  {
   "cell_type": "code",
   "execution_count": 69,
   "metadata": {},
   "outputs": [],
   "source": [
    "to_predict=[{\"cores\": 4, \"program\": {\"image\": \"als23/sleep:latest\", \"cmd\": \"sh -lc 'python3 run.py 60 4 > /output/test.txt'\"},\n",
    "                         \"paramsvector\": [60]}]"
   ]
  },
  {
   "cell_type": "code",
   "execution_count": 70,
   "metadata": {},
   "outputs": [
    {
     "data": {
      "text/html": [
       "<div>\n",
       "<style scoped>\n",
       "    .dataframe tbody tr th:only-of-type {\n",
       "        vertical-align: middle;\n",
       "    }\n",
       "\n",
       "    .dataframe tbody tr th {\n",
       "        vertical-align: top;\n",
       "    }\n",
       "\n",
       "    .dataframe thead th {\n",
       "        text-align: right;\n",
       "    }\n",
       "</style>\n",
       "<table border=\"1\" class=\"dataframe\">\n",
       "  <thead>\n",
       "    <tr style=\"text-align: right;\">\n",
       "      <th></th>\n",
       "      <th>cores</th>\n",
       "      <th>paramsvector</th>\n",
       "      <th>program</th>\n",
       "    </tr>\n",
       "  </thead>\n",
       "  <tbody>\n",
       "    <tr>\n",
       "      <th>0</th>\n",
       "      <td>4</td>\n",
       "      <td>60</td>\n",
       "      <td>{\"image\": \"als23/sleep:latest\", \"cmd\": \"sh -lc 'python3 run.py 60 4 &gt; /output/test.txt'\"}</td>\n",
       "    </tr>\n",
       "  </tbody>\n",
       "</table>\n",
       "</div>"
      ],
      "text/plain": [
       "   cores  paramsvector  \\\n",
       "0  4      60             \n",
       "\n",
       "                                                                                     program  \n",
       "0  {\"image\": \"als23/sleep:latest\", \"cmd\": \"sh -lc 'python3 run.py 60 4 > /output/test.txt'\"}  "
      ]
     },
     "execution_count": 70,
     "metadata": {},
     "output_type": "execute_result"
    }
   ],
   "source": [
    "data_test = pd.DataFrame.from_records(to_predict)\n",
    "data_test.program=data_test.program.apply(lambda x: json.dumps(x))\n",
    "data_test.paramsvector=data_test.paramsvector.apply(lambda x: x[0])\n",
    "data_test.head()"
   ]
  },
  {
   "cell_type": "code",
   "execution_count": 71,
   "metadata": {},
   "outputs": [
    {
     "data": {
      "text/html": [
       "<div>\n",
       "<style scoped>\n",
       "    .dataframe tbody tr th:only-of-type {\n",
       "        vertical-align: middle;\n",
       "    }\n",
       "\n",
       "    .dataframe tbody tr th {\n",
       "        vertical-align: top;\n",
       "    }\n",
       "\n",
       "    .dataframe thead th {\n",
       "        text-align: right;\n",
       "    }\n",
       "</style>\n",
       "<table border=\"1\" class=\"dataframe\">\n",
       "  <thead>\n",
       "    <tr style=\"text-align: right;\">\n",
       "      <th></th>\n",
       "      <th>cores</th>\n",
       "      <th>paramsvector</th>\n",
       "      <th>program</th>\n",
       "    </tr>\n",
       "  </thead>\n",
       "  <tbody>\n",
       "    <tr>\n",
       "      <th>0</th>\n",
       "      <td>4</td>\n",
       "      <td>60</td>\n",
       "      <td>9306</td>\n",
       "    </tr>\n",
       "  </tbody>\n",
       "</table>\n",
       "</div>"
      ],
      "text/plain": [
       "   cores  paramsvector  program\n",
       "0  4      60            9306   "
      ]
     },
     "execution_count": 71,
     "metadata": {},
     "output_type": "execute_result"
    }
   ],
   "source": [
    "df_combined = data_test[features]\n",
    "\n",
    "for feature in features:\n",
    "    #le = le.fit(df_combined[feature])\n",
    "    data_test[feature] = le.transform(df_combined[feature])\n",
    "\n",
    "data_test.head()"
   ]
  },
  {
   "cell_type": "code",
   "execution_count": 72,
   "metadata": {},
   "outputs": [
    {
     "data": {
      "text/plain": [
       "array([15.])"
      ]
     },
     "execution_count": 72,
     "metadata": {},
     "output_type": "execute_result"
    }
   ],
   "source": [
    "clf.predict(data_test)"
   ]
  },
  {
   "cell_type": "code",
   "execution_count": 13,
   "metadata": {},
   "outputs": [
    {
     "data": {
      "text/plain": [
       "LabelEncoder()"
      ]
     },
     "execution_count": 13,
     "metadata": {},
     "output_type": "execute_result"
    }
   ],
   "source": [
    "le"
   ]
  },
  {
   "cell_type": "code",
   "execution_count": 73,
   "metadata": {},
   "outputs": [
    {
     "data": {
      "text/plain": [
       "52.375"
      ]
     },
     "execution_count": 73,
     "metadata": {},
     "output_type": "execute_result"
    }
   ],
   "source": [
    "24.9+12.475+15"
   ]
  },
  {
   "cell_type": "code",
   "execution_count": null,
   "metadata": {},
   "outputs": [],
   "source": []
  },
  {
   "cell_type": "code",
   "execution_count": null,
   "metadata": {},
   "outputs": [],
   "source": []
  },
  {
   "cell_type": "code",
   "execution_count": null,
   "metadata": {},
   "outputs": [],
   "source": []
  },
  {
   "cell_type": "code",
   "execution_count": null,
   "metadata": {},
   "outputs": [],
   "source": []
  },
  {
   "cell_type": "code",
   "execution_count": null,
   "metadata": {},
   "outputs": [],
   "source": []
  },
  {
   "cell_type": "code",
   "execution_count": null,
   "metadata": {},
   "outputs": [],
   "source": []
  },
  {
   "cell_type": "code",
   "execution_count": null,
   "metadata": {},
   "outputs": [],
   "source": []
  },
  {
   "cell_type": "code",
   "execution_count": null,
   "metadata": {},
   "outputs": [],
   "source": []
  }
 ],
 "metadata": {
  "kernelspec": {
   "display_name": "Python 3",
   "language": "python",
   "name": "python3"
  },
  "language_info": {
   "codemirror_mode": {
    "name": "ipython",
    "version": 3
   },
   "file_extension": ".py",
   "mimetype": "text/x-python",
   "name": "python",
   "nbconvert_exporter": "python",
   "pygments_lexer": "ipython3",
   "version": "3.6.5"
  }
 },
 "nbformat": 4,
 "nbformat_minor": 2
}
