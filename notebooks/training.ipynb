{
 "cells": [
  {
   "cell_type": "code",
   "execution_count": 1,
   "metadata": {
    "scrolled": true
   },
   "outputs": [],
   "source": [
    "from sklearn.ensemble import RandomForestClassifier\n",
    "\n",
    "import numpy as np\n",
    "import pandas as pd\n",
    "import matplotlib.pyplot as plt\n",
    "\n",
    "import json\n",
    "import os\n",
    "#warnings.filterwarnings(\"ignore\", category=DeprecationWarning) \n",
    "#%matplotlib inline"
   ]
  },
  {
   "cell_type": "markdown",
   "metadata": {},
   "source": [
    "# if need to show all data in columns"
   ]
  },
  {
   "cell_type": "code",
   "execution_count": 2,
   "metadata": {},
   "outputs": [],
   "source": [
    "pd.set_option('display.max_colwidth', -1)"
   ]
  },
  {
   "cell_type": "markdown",
   "metadata": {},
   "source": [
    "# generate data"
   ]
  },
  {
   "cell_type": "code",
   "execution_count": null,
   "metadata": {
    "scrolled": true
   },
   "outputs": [],
   "source": [
    "#cores\n",
    "N=16\n",
    "#secs\n",
    "M=1024\n",
    "x={}\n",
    "\n",
    "for i in range(1,N+1):\n",
    "    x[i]=[]\n",
    "    for j in range(1,M+1):\n",
    "        x[i].append(j/i)\n",
    "df = pd.DataFrame(data=x,index=range(1,M+1))\n",
    "df"
   ]
  },
  {
   "cell_type": "code",
   "execution_count": null,
   "metadata": {
    "scrolled": true
   },
   "outputs": [],
   "source": [
    "df.to_csv(\"output.csv\")"
   ]
  },
  {
   "cell_type": "markdown",
   "metadata": {},
   "source": [
    "# Read"
   ]
  },
  {
   "cell_type": "code",
   "execution_count": null,
   "metadata": {},
   "outputs": [],
   "source": [
    "data = pd.read_csv('output.csv',index_col=['Unnamed: 0'])\n",
    "data.sample(10)"
   ]
  },
  {
   "cell_type": "code",
   "execution_count": null,
   "metadata": {
    "scrolled": true
   },
   "outputs": [],
   "source": [
    "data.head()"
   ]
  },
  {
   "cell_type": "code",
   "execution_count": null,
   "metadata": {},
   "outputs": [],
   "source": [
    "data_train=pd.DataFrame(columns=['program','cores','paramsvector','time'])"
   ]
  },
  {
   "cell_type": "code",
   "execution_count": null,
   "metadata": {},
   "outputs": [],
   "source": [
    "k=0\n",
    "dlist=[]\n",
    "for i in range(0,len(data)):\n",
    "    for j in range(1,len(data.columns)+1):\n",
    "        dict={}\n",
    "        dict['time']=data.iloc[i][str(j)]\n",
    "        dict['cores']=j\n",
    "        dict['paramsvector']=[i+1]\n",
    "        cmd=\"sh -lc \\'python3 run.py {} {} > /output/test.txt\\'\".format(dict['paramsvector'][0],dict['cores'])\n",
    "        dict['program']={'image': 'als23/sleep:latest', 'cmd': cmd}\n",
    "        data_train.loc[k]=dict\n",
    "        dlist.append(dict)\n",
    "        k+=1"
   ]
  },
  {
   "cell_type": "code",
   "execution_count": null,
   "metadata": {},
   "outputs": [],
   "source": [
    "data_train.sample(10)"
   ]
  },
  {
   "cell_type": "code",
   "execution_count": null,
   "metadata": {},
   "outputs": [],
   "source": [
    "with open(\"outputSleepSim.json\", \"w\") as f:\n",
    "    json.dump(dlist, f)"
   ]
  },
  {
   "cell_type": "markdown",
   "metadata": {},
   "source": [
    "# Monte-Carlo"
   ]
  },
  {
   "cell_type": "code",
   "execution_count": 21,
   "metadata": {},
   "outputs": [],
   "source": [
    "path = \"../outputGCC.json\"\n",
    "\n",
    "def load_data():\n",
    "    if not os.path.isfile(path):\n",
    "        return []\n",
    "    with open(path, \"r\") as json_data:\n",
    "        statelist = json.load(json_data)\n",
    "        if isinstance(statelist, list):\n",
    "            return statelist\n",
    "        return []"
   ]
  },
  {
   "cell_type": "code",
   "execution_count": 22,
   "metadata": {},
   "outputs": [
    {
     "data": {
      "text/html": [
       "<div>\n",
       "<style scoped>\n",
       "    .dataframe tbody tr th:only-of-type {\n",
       "        vertical-align: middle;\n",
       "    }\n",
       "\n",
       "    .dataframe tbody tr th {\n",
       "        vertical-align: top;\n",
       "    }\n",
       "\n",
       "    .dataframe thead th {\n",
       "        text-align: right;\n",
       "    }\n",
       "</style>\n",
       "<table border=\"1\" class=\"dataframe\">\n",
       "  <thead>\n",
       "    <tr style=\"text-align: right;\">\n",
       "      <th></th>\n",
       "      <th>cores</th>\n",
       "      <th>paramsvector</th>\n",
       "      <th>program</th>\n",
       "      <th>time</th>\n",
       "    </tr>\n",
       "  </thead>\n",
       "  <tbody>\n",
       "    <tr>\n",
       "      <th>1</th>\n",
       "      <td>14</td>\n",
       "      <td>--enable-languages=c,c++,fortran --disable-multilib --disable-bootstrap --build=x86_64-linux-gnu</td>\n",
       "      <td>{'image': 'als23/makegcc:latest', 'cmd': 'sh -lc '/input/images/makegcc/run.sh 14 &gt; /output/test.txt 2&gt;&amp;1''}</td>\n",
       "      <td>440.46</td>\n",
       "    </tr>\n",
       "    <tr>\n",
       "      <th>2</th>\n",
       "      <td>15</td>\n",
       "      <td>--enable-languages=c,c++,fortran --disable-multilib --disable-bootstrap --build=x86_64-linux-gnu</td>\n",
       "      <td>{'image': 'als23/makegcc:latest', 'cmd': 'sh -lc '/input/images/makegcc/run.sh 15 &gt; /output/test.txt 2&gt;&amp;1''}</td>\n",
       "      <td>433.16</td>\n",
       "    </tr>\n",
       "    <tr>\n",
       "      <th>3</th>\n",
       "      <td>8</td>\n",
       "      <td>--enable-languages=c,c++,fortran --disable-multilib --disable-bootstrap --build=x86_64-linux-gnu</td>\n",
       "      <td>{'image': 'als23/makegcc:latest', 'cmd': 'sh -lc '/input/images/makegcc/run.sh 8 &gt; /output/test.txt 2&gt;&amp;1''}</td>\n",
       "      <td>684.26</td>\n",
       "    </tr>\n",
       "    <tr>\n",
       "      <th>4</th>\n",
       "      <td>7</td>\n",
       "      <td>--enable-languages=c,c++,fortran --disable-multilib --disable-bootstrap --build=x86_64-linux-gnu</td>\n",
       "      <td>{'image': 'als23/makegcc:latest', 'cmd': 'sh -lc '/input/images/makegcc/run.sh 7 &gt; /output/test.txt 2&gt;&amp;1''}</td>\n",
       "      <td>722.27</td>\n",
       "    </tr>\n",
       "    <tr>\n",
       "      <th>5</th>\n",
       "      <td>11</td>\n",
       "      <td>--enable-languages=c,c++,fortran --disable-multilib --disable-bootstrap --build=x86_64-linux-gnu</td>\n",
       "      <td>{'image': 'als23/makegcc:latest', 'cmd': 'sh -lc '/input/images/makegcc/run.sh 11 &gt; /output/test.txt 2&gt;&amp;1''}</td>\n",
       "      <td>741.82</td>\n",
       "    </tr>\n",
       "  </tbody>\n",
       "</table>\n",
       "</div>"
      ],
      "text/plain": [
       "   cores  \\\n",
       "1  14      \n",
       "2  15      \n",
       "3  8       \n",
       "4  7       \n",
       "5  11      \n",
       "\n",
       "                                                                                       paramsvector  \\\n",
       "1  --enable-languages=c,c++,fortran --disable-multilib --disable-bootstrap --build=x86_64-linux-gnu   \n",
       "2  --enable-languages=c,c++,fortran --disable-multilib --disable-bootstrap --build=x86_64-linux-gnu   \n",
       "3  --enable-languages=c,c++,fortran --disable-multilib --disable-bootstrap --build=x86_64-linux-gnu   \n",
       "4  --enable-languages=c,c++,fortran --disable-multilib --disable-bootstrap --build=x86_64-linux-gnu   \n",
       "5  --enable-languages=c,c++,fortran --disable-multilib --disable-bootstrap --build=x86_64-linux-gnu   \n",
       "\n",
       "                                                                                                        program  \\\n",
       "1  {'image': 'als23/makegcc:latest', 'cmd': 'sh -lc '/input/images/makegcc/run.sh 14 > /output/test.txt 2>&1''}   \n",
       "2  {'image': 'als23/makegcc:latest', 'cmd': 'sh -lc '/input/images/makegcc/run.sh 15 > /output/test.txt 2>&1''}   \n",
       "3  {'image': 'als23/makegcc:latest', 'cmd': 'sh -lc '/input/images/makegcc/run.sh 8 > /output/test.txt 2>&1''}    \n",
       "4  {'image': 'als23/makegcc:latest', 'cmd': 'sh -lc '/input/images/makegcc/run.sh 7 > /output/test.txt 2>&1''}    \n",
       "5  {'image': 'als23/makegcc:latest', 'cmd': 'sh -lc '/input/images/makegcc/run.sh 11 > /output/test.txt 2>&1''}   \n",
       "\n",
       "     time  \n",
       "1  440.46  \n",
       "2  433.16  \n",
       "3  684.26  \n",
       "4  722.27  \n",
       "5  741.82  "
      ]
     },
     "execution_count": 22,
     "metadata": {},
     "output_type": "execute_result"
    }
   ],
   "source": [
    "d=load_data()\n",
    "df=pd.DataFrame.from_records(d,index=range(1,len(d)+1))\n",
    "\n",
    "# statelist=[]\n",
    "# with open(\"f.json\", \"r\") as json_data:\n",
    "#     statelist = json.load(json_data)\n",
    "    \n",
    "df=pd.DataFrame.from_records(d,index=range(1,len(d)+1))\n",
    "df.head()"
   ]
  },
  {
   "cell_type": "code",
   "execution_count": 23,
   "metadata": {},
   "outputs": [
    {
     "data": {
      "text/html": [
       "<div>\n",
       "<style scoped>\n",
       "    .dataframe tbody tr th:only-of-type {\n",
       "        vertical-align: middle;\n",
       "    }\n",
       "\n",
       "    .dataframe tbody tr th {\n",
       "        vertical-align: top;\n",
       "    }\n",
       "\n",
       "    .dataframe thead th {\n",
       "        text-align: right;\n",
       "    }\n",
       "</style>\n",
       "<table border=\"1\" class=\"dataframe\">\n",
       "  <thead>\n",
       "    <tr style=\"text-align: right;\">\n",
       "      <th></th>\n",
       "      <th>cores</th>\n",
       "      <th>time</th>\n",
       "    </tr>\n",
       "  </thead>\n",
       "  <tbody>\n",
       "    <tr>\n",
       "      <th>count</th>\n",
       "      <td>16.000000</td>\n",
       "      <td>16.000000</td>\n",
       "    </tr>\n",
       "    <tr>\n",
       "      <th>mean</th>\n",
       "      <td>8.500000</td>\n",
       "      <td>780.870000</td>\n",
       "    </tr>\n",
       "    <tr>\n",
       "      <th>std</th>\n",
       "      <td>4.760952</td>\n",
       "      <td>346.680416</td>\n",
       "    </tr>\n",
       "    <tr>\n",
       "      <th>min</th>\n",
       "      <td>1.000000</td>\n",
       "      <td>306.290000</td>\n",
       "    </tr>\n",
       "    <tr>\n",
       "      <th>25%</th>\n",
       "      <td>4.750000</td>\n",
       "      <td>710.457500</td>\n",
       "    </tr>\n",
       "    <tr>\n",
       "      <th>50%</th>\n",
       "      <td>8.500000</td>\n",
       "      <td>735.970000</td>\n",
       "    </tr>\n",
       "    <tr>\n",
       "      <th>75%</th>\n",
       "      <td>12.250000</td>\n",
       "      <td>801.352500</td>\n",
       "    </tr>\n",
       "    <tr>\n",
       "      <th>max</th>\n",
       "      <td>16.000000</td>\n",
       "      <td>1893.280000</td>\n",
       "    </tr>\n",
       "  </tbody>\n",
       "</table>\n",
       "</div>"
      ],
      "text/plain": [
       "           cores         time\n",
       "count  16.000000  16.000000  \n",
       "mean   8.500000   780.870000 \n",
       "std    4.760952   346.680416 \n",
       "min    1.000000   306.290000 \n",
       "25%    4.750000   710.457500 \n",
       "50%    8.500000   735.970000 \n",
       "75%    12.250000  801.352500 \n",
       "max    16.000000  1893.280000"
      ]
     },
     "execution_count": 23,
     "metadata": {},
     "output_type": "execute_result"
    }
   ],
   "source": [
    "df.describe()"
   ]
  },
  {
   "cell_type": "markdown",
   "metadata": {},
   "source": [
    "# Sort"
   ]
  },
  {
   "cell_type": "code",
   "execution_count": 24,
   "metadata": {},
   "outputs": [
    {
     "data": {
      "text/html": [
       "<div>\n",
       "<style scoped>\n",
       "    .dataframe tbody tr th:only-of-type {\n",
       "        vertical-align: middle;\n",
       "    }\n",
       "\n",
       "    .dataframe tbody tr th {\n",
       "        vertical-align: top;\n",
       "    }\n",
       "\n",
       "    .dataframe thead th {\n",
       "        text-align: right;\n",
       "    }\n",
       "</style>\n",
       "<table border=\"1\" class=\"dataframe\">\n",
       "  <thead>\n",
       "    <tr style=\"text-align: right;\">\n",
       "      <th></th>\n",
       "      <th>cores</th>\n",
       "      <th>paramsvector</th>\n",
       "      <th>program</th>\n",
       "      <th>time</th>\n",
       "    </tr>\n",
       "  </thead>\n",
       "  <tbody>\n",
       "    <tr>\n",
       "      <th>15</th>\n",
       "      <td>1</td>\n",
       "      <td>--enable-languages=c,c++,fortran --disable-multilib --disable-bootstrap --build=x86_64-linux-gnu</td>\n",
       "      <td>{'image': 'als23/makegcc:latest', 'cmd': 'sh -lc '/input/images/makegcc/run.sh 1 &gt; /output/test.txt 2&gt;&amp;1''}</td>\n",
       "      <td>1893.28</td>\n",
       "    </tr>\n",
       "    <tr>\n",
       "      <th>14</th>\n",
       "      <td>2</td>\n",
       "      <td>--enable-languages=c,c++,fortran --disable-multilib --disable-bootstrap --build=x86_64-linux-gnu</td>\n",
       "      <td>{'image': 'als23/makegcc:latest', 'cmd': 'sh -lc '/input/images/makegcc/run.sh 2 &gt; /output/test.txt 2&gt;&amp;1''}</td>\n",
       "      <td>990.75</td>\n",
       "    </tr>\n",
       "    <tr>\n",
       "      <th>13</th>\n",
       "      <td>3</td>\n",
       "      <td>--enable-languages=c,c++,fortran --disable-multilib --disable-bootstrap --build=x86_64-linux-gnu</td>\n",
       "      <td>{'image': 'als23/makegcc:latest', 'cmd': 'sh -lc '/input/images/makegcc/run.sh 3 &gt; /output/test.txt 2&gt;&amp;1''}</td>\n",
       "      <td>950.71</td>\n",
       "    </tr>\n",
       "    <tr>\n",
       "      <th>12</th>\n",
       "      <td>4</td>\n",
       "      <td>--enable-languages=c,c++,fortran --disable-multilib --disable-bootstrap --build=x86_64-linux-gnu</td>\n",
       "      <td>{'image': 'als23/makegcc:latest', 'cmd': 'sh -lc '/input/images/makegcc/run.sh 4 &gt; /output/test.txt 2&gt;&amp;1''}</td>\n",
       "      <td>855.72</td>\n",
       "    </tr>\n",
       "    <tr>\n",
       "      <th>11</th>\n",
       "      <td>5</td>\n",
       "      <td>--enable-languages=c,c++,fortran --disable-multilib --disable-bootstrap --build=x86_64-linux-gnu</td>\n",
       "      <td>{'image': 'als23/makegcc:latest', 'cmd': 'sh -lc '/input/images/makegcc/run.sh 5 &gt; /output/test.txt 2&gt;&amp;1''}</td>\n",
       "      <td>783.23</td>\n",
       "    </tr>\n",
       "  </tbody>\n",
       "</table>\n",
       "</div>"
      ],
      "text/plain": [
       "    cores  \\\n",
       "15  1       \n",
       "14  2       \n",
       "13  3       \n",
       "12  4       \n",
       "11  5       \n",
       "\n",
       "                                                                                        paramsvector  \\\n",
       "15  --enable-languages=c,c++,fortran --disable-multilib --disable-bootstrap --build=x86_64-linux-gnu   \n",
       "14  --enable-languages=c,c++,fortran --disable-multilib --disable-bootstrap --build=x86_64-linux-gnu   \n",
       "13  --enable-languages=c,c++,fortran --disable-multilib --disable-bootstrap --build=x86_64-linux-gnu   \n",
       "12  --enable-languages=c,c++,fortran --disable-multilib --disable-bootstrap --build=x86_64-linux-gnu   \n",
       "11  --enable-languages=c,c++,fortran --disable-multilib --disable-bootstrap --build=x86_64-linux-gnu   \n",
       "\n",
       "                                                                                                        program  \\\n",
       "15  {'image': 'als23/makegcc:latest', 'cmd': 'sh -lc '/input/images/makegcc/run.sh 1 > /output/test.txt 2>&1''}   \n",
       "14  {'image': 'als23/makegcc:latest', 'cmd': 'sh -lc '/input/images/makegcc/run.sh 2 > /output/test.txt 2>&1''}   \n",
       "13  {'image': 'als23/makegcc:latest', 'cmd': 'sh -lc '/input/images/makegcc/run.sh 3 > /output/test.txt 2>&1''}   \n",
       "12  {'image': 'als23/makegcc:latest', 'cmd': 'sh -lc '/input/images/makegcc/run.sh 4 > /output/test.txt 2>&1''}   \n",
       "11  {'image': 'als23/makegcc:latest', 'cmd': 'sh -lc '/input/images/makegcc/run.sh 5 > /output/test.txt 2>&1''}   \n",
       "\n",
       "       time  \n",
       "15  1893.28  \n",
       "14  990.75   \n",
       "13  950.71   \n",
       "12  855.72   \n",
       "11  783.23   "
      ]
     },
     "execution_count": 24,
     "metadata": {},
     "output_type": "execute_result"
    }
   ],
   "source": [
    "df=df.sort_values(by=[\"cores\"])\n",
    "\n",
    "df.head()"
   ]
  },
  {
   "cell_type": "code",
   "execution_count": 25,
   "metadata": {},
   "outputs": [
    {
     "data": {
      "text/html": [
       "<div>\n",
       "<style scoped>\n",
       "    .dataframe tbody tr th:only-of-type {\n",
       "        vertical-align: middle;\n",
       "    }\n",
       "\n",
       "    .dataframe tbody tr th {\n",
       "        vertical-align: top;\n",
       "    }\n",
       "\n",
       "    .dataframe thead th {\n",
       "        text-align: right;\n",
       "    }\n",
       "</style>\n",
       "<table border=\"1\" class=\"dataframe\">\n",
       "  <thead>\n",
       "    <tr style=\"text-align: right;\">\n",
       "      <th></th>\n",
       "      <th>cores</th>\n",
       "      <th>paramsvector</th>\n",
       "      <th>program</th>\n",
       "      <th>time</th>\n",
       "    </tr>\n",
       "  </thead>\n",
       "  <tbody>\n",
       "    <tr>\n",
       "      <th>1</th>\n",
       "      <td>1</td>\n",
       "      <td>--enable-languages=c,c++,fortran --disable-multilib --disable-bootstrap --build=x86_64-linux-gnu</td>\n",
       "      <td>{'image': 'als23/makegcc:latest', 'cmd': 'sh -lc '/input/images/makegcc/run.sh 1 &gt; /output/test.txt 2&gt;&amp;1''}</td>\n",
       "      <td>1893.28</td>\n",
       "    </tr>\n",
       "    <tr>\n",
       "      <th>2</th>\n",
       "      <td>2</td>\n",
       "      <td>--enable-languages=c,c++,fortran --disable-multilib --disable-bootstrap --build=x86_64-linux-gnu</td>\n",
       "      <td>{'image': 'als23/makegcc:latest', 'cmd': 'sh -lc '/input/images/makegcc/run.sh 2 &gt; /output/test.txt 2&gt;&amp;1''}</td>\n",
       "      <td>990.75</td>\n",
       "    </tr>\n",
       "    <tr>\n",
       "      <th>3</th>\n",
       "      <td>3</td>\n",
       "      <td>--enable-languages=c,c++,fortran --disable-multilib --disable-bootstrap --build=x86_64-linux-gnu</td>\n",
       "      <td>{'image': 'als23/makegcc:latest', 'cmd': 'sh -lc '/input/images/makegcc/run.sh 3 &gt; /output/test.txt 2&gt;&amp;1''}</td>\n",
       "      <td>950.71</td>\n",
       "    </tr>\n",
       "    <tr>\n",
       "      <th>4</th>\n",
       "      <td>4</td>\n",
       "      <td>--enable-languages=c,c++,fortran --disable-multilib --disable-bootstrap --build=x86_64-linux-gnu</td>\n",
       "      <td>{'image': 'als23/makegcc:latest', 'cmd': 'sh -lc '/input/images/makegcc/run.sh 4 &gt; /output/test.txt 2&gt;&amp;1''}</td>\n",
       "      <td>855.72</td>\n",
       "    </tr>\n",
       "    <tr>\n",
       "      <th>5</th>\n",
       "      <td>5</td>\n",
       "      <td>--enable-languages=c,c++,fortran --disable-multilib --disable-bootstrap --build=x86_64-linux-gnu</td>\n",
       "      <td>{'image': 'als23/makegcc:latest', 'cmd': 'sh -lc '/input/images/makegcc/run.sh 5 &gt; /output/test.txt 2&gt;&amp;1''}</td>\n",
       "      <td>783.23</td>\n",
       "    </tr>\n",
       "  </tbody>\n",
       "</table>\n",
       "</div>"
      ],
      "text/plain": [
       "   cores  \\\n",
       "1  1       \n",
       "2  2       \n",
       "3  3       \n",
       "4  4       \n",
       "5  5       \n",
       "\n",
       "                                                                                       paramsvector  \\\n",
       "1  --enable-languages=c,c++,fortran --disable-multilib --disable-bootstrap --build=x86_64-linux-gnu   \n",
       "2  --enable-languages=c,c++,fortran --disable-multilib --disable-bootstrap --build=x86_64-linux-gnu   \n",
       "3  --enable-languages=c,c++,fortran --disable-multilib --disable-bootstrap --build=x86_64-linux-gnu   \n",
       "4  --enable-languages=c,c++,fortran --disable-multilib --disable-bootstrap --build=x86_64-linux-gnu   \n",
       "5  --enable-languages=c,c++,fortran --disable-multilib --disable-bootstrap --build=x86_64-linux-gnu   \n",
       "\n",
       "                                                                                                       program  \\\n",
       "1  {'image': 'als23/makegcc:latest', 'cmd': 'sh -lc '/input/images/makegcc/run.sh 1 > /output/test.txt 2>&1''}   \n",
       "2  {'image': 'als23/makegcc:latest', 'cmd': 'sh -lc '/input/images/makegcc/run.sh 2 > /output/test.txt 2>&1''}   \n",
       "3  {'image': 'als23/makegcc:latest', 'cmd': 'sh -lc '/input/images/makegcc/run.sh 3 > /output/test.txt 2>&1''}   \n",
       "4  {'image': 'als23/makegcc:latest', 'cmd': 'sh -lc '/input/images/makegcc/run.sh 4 > /output/test.txt 2>&1''}   \n",
       "5  {'image': 'als23/makegcc:latest', 'cmd': 'sh -lc '/input/images/makegcc/run.sh 5 > /output/test.txt 2>&1''}   \n",
       "\n",
       "      time  \n",
       "1  1893.28  \n",
       "2  990.75   \n",
       "3  950.71   \n",
       "4  855.72   \n",
       "5  783.23   "
      ]
     },
     "execution_count": 25,
     "metadata": {},
     "output_type": "execute_result"
    }
   ],
   "source": [
    "df = df.reset_index(drop=True)\n",
    "pd.set_option('display.max_colwidth', -1)\n",
    "df.index=range(1,len(d)+1)\n",
    "\n",
    "df.head()"
   ]
  },
  {
   "cell_type": "markdown",
   "metadata": {
    "scrolled": false
   },
   "source": [
    "#plot1=df.time.plot.line(figsize=(50,30))\n",
    "#fig1 = plot1.get_figure()\n",
    "#fig1.savefig('linefig1.png', dpi=100)"
   ]
  },
  {
   "cell_type": "markdown",
   "metadata": {},
   "source": [
    "# select data from dataset"
   ]
  },
  {
   "cell_type": "code",
   "execution_count": null,
   "metadata": {},
   "outputs": [],
   "source": [
    "# expand df.tags into its own dataframe\n",
    "tags = df['paramsvector'].apply(pd.Series)\n",
    "\n",
    "# rename each variable is tags\n",
    "tags = tags.rename(columns = lambda x : 'param_' + str(x))\n",
    "\n",
    "# view the tags dataframe\n",
    "tags.head()"
   ]
  },
  {
   "cell_type": "code",
   "execution_count": null,
   "metadata": {
    "scrolled": true
   },
   "outputs": [],
   "source": [
    "# join the tags dataframe back to the original dataframe\n",
    "dfexpanded=pd.concat([df[:], tags[:]], axis=1)\n",
    "dfexpanded.head()"
   ]
  },
  {
   "cell_type": "code",
   "execution_count": null,
   "metadata": {},
   "outputs": [],
   "source": [
    "cond=dfexpanded['param_0']==60\n",
    "vyborka=dfexpanded[cond]\n",
    "vyborka.reset_index(drop=True)\n",
    "vyborka.index=vyborka.cores"
   ]
  },
  {
   "cell_type": "markdown",
   "metadata": {},
   "source": [
    "# Plot"
   ]
  },
  {
   "cell_type": "code",
   "execution_count": 26,
   "metadata": {},
   "outputs": [
    {
     "data": {
      "image/png": "[encoded data removed]",
      "text/plain": [
       "<Figure size 432x288 with 1 Axes>"
      ]
     },
     "metadata": {},
     "output_type": "display_data"
    }
   ],
   "source": [
    "plot2=df.time.plot.bar()\n",
    "fig2 = plot2.get_figure()\n",
    "plt.xlabel('Cores Number')\n",
    "plt.ylabel('Time')\n",
    "fig2.savefig('barfig4.png', dpi=100)"
   ]
  },
  {
   "cell_type": "code",
   "execution_count": null,
   "metadata": {},
   "outputs": [],
   "source": [
    "plt.plot(vyborka.cores, vyborka.time, 'o')"
   ]
  },
  {
   "cell_type": "code",
   "execution_count": null,
   "metadata": {},
   "outputs": [],
   "source": []
  },
  {
   "cell_type": "markdown",
   "metadata": {},
   "source": [
    "plt.plot(vyborka.cores * vyborka.time)"
   ]
  },
  {
   "cell_type": "markdown",
   "metadata": {},
   "source": [
    "# Training"
   ]
  },
  {
   "cell_type": "code",
   "execution_count": null,
   "metadata": {},
   "outputs": [],
   "source": [
    "from sklearn.ensemble import RandomForestClassifier as rfc\n",
    "from sklearn.ensemble import RandomForestRegressor as rfr\n",
    "import json\n",
    "\n",
    "clf=rfr()"
   ]
  },
  {
   "cell_type": "code",
   "execution_count": null,
   "metadata": {},
   "outputs": [],
   "source": [
    "X = df.drop(['time'],axis=1)\n",
    "y = df.time\n",
    "X.head()"
   ]
  },
  {
   "cell_type": "code",
   "execution_count": null,
   "metadata": {},
   "outputs": [],
   "source": [
    "X.program=X.program.apply(lambda x: json.dumps(x))\n",
    "X.paramsvector=X.paramsvector.apply(lambda x: x[0])\n",
    "\n",
    "data_train = X\n",
    "data_train.head()"
   ]
  },
  {
   "cell_type": "code",
   "execution_count": null,
   "metadata": {},
   "outputs": [],
   "source": [
    "from sklearn import preprocessing"
   ]
  },
  {
   "cell_type": "code",
   "execution_count": null,
   "metadata": {},
   "outputs": [],
   "source": [
    "features = ['program']\n",
    "le= preprocessing.LabelEncoder()"
   ]
  },
  {
   "cell_type": "code",
   "execution_count": null,
   "metadata": {},
   "outputs": [],
   "source": [
    "df_combined = X[features]\n",
    "    \n",
    "for feature in features:\n",
    "    le = le.fit(df_combined[feature])\n",
    "    data_train[feature] = le.transform(df_combined[feature])\n",
    "    \n",
    "data_train.head()"
   ]
  },
  {
   "cell_type": "code",
   "execution_count": null,
   "metadata": {},
   "outputs": [],
   "source": [
    "clf.fit(data_train,y)"
   ]
  },
  {
   "cell_type": "code",
   "execution_count": null,
   "metadata": {},
   "outputs": [],
   "source": [
    "to_predict=[{\"cores\": 4, \"program\": {\"image\": \"als23/sleep:latest\", \"cmd\": \"sh -lc 'python3 run.py 60 4 > /output/test.txt'\"},\n",
    "                         \"paramsvector\": [60]}]"
   ]
  },
  {
   "cell_type": "code",
   "execution_count": null,
   "metadata": {},
   "outputs": [],
   "source": [
    "data_test = pd.DataFrame.from_records(to_predict)\n",
    "data_test.program=data_test.program.apply(lambda x: json.dumps(x))\n",
    "data_test.paramsvector=data_test.paramsvector.apply(lambda x: x[0])\n",
    "data_test.head()"
   ]
  },
  {
   "cell_type": "code",
   "execution_count": null,
   "metadata": {},
   "outputs": [],
   "source": [
    "df_combined = data_test[features]\n",
    "\n",
    "for feature in features:\n",
    "    #le = le.fit(df_combined[feature])\n",
    "    data_test[feature] = le.transform(df_combined[feature])\n",
    "\n",
    "data_test.head()"
   ]
  },
  {
   "cell_type": "code",
   "execution_count": null,
   "metadata": {},
   "outputs": [],
   "source": [
    "clf.predict(data_test)"
   ]
  },
  {
   "cell_type": "code",
   "execution_count": null,
   "metadata": {},
   "outputs": [],
   "source": []
  },
  {
   "cell_type": "code",
   "execution_count": null,
   "metadata": {},
   "outputs": [],
   "source": []
  },
  {
   "cell_type": "code",
   "execution_count": null,
   "metadata": {},
   "outputs": [],
   "source": []
  },
  {
   "cell_type": "code",
   "execution_count": null,
   "metadata": {},
   "outputs": [],
   "source": []
  },
  {
   "cell_type": "code",
   "execution_count": null,
   "metadata": {},
   "outputs": [],
   "source": []
  },
  {
   "cell_type": "code",
   "execution_count": null,
   "metadata": {},
   "outputs": [],
   "source": []
  },
  {
   "cell_type": "code",
   "execution_count": null,
   "metadata": {},
   "outputs": [],
   "source": []
  },
  {
   "cell_type": "code",
   "execution_count": null,
   "metadata": {},
   "outputs": [],
   "source": []
  },
  {
   "cell_type": "code",
   "execution_count": null,
   "metadata": {},
   "outputs": [],
   "source": []
  },
  {
   "cell_type": "code",
   "execution_count": null,
   "metadata": {},
   "outputs": [],
   "source": []
  }
 ],
 "metadata": {
  "kernelspec": {
   "display_name": "Python 3",
   "language": "python",
   "name": "python3"
  },
  "language_info": {
   "codemirror_mode": {
    "name": "ipython",
    "version": 3
   },
   "file_extension": ".py",
   "mimetype": "text/x-python",
   "name": "python",
   "nbconvert_exporter": "python",
   "pygments_lexer": "ipython3",
   "version": "3.6.5"
  }
 },
 "nbformat": 4,
 "nbformat_minor": 2
}
